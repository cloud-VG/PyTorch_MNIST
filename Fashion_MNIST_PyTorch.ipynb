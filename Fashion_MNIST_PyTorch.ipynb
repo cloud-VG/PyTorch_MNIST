{
  "nbformat": 4,
  "nbformat_minor": 0,
  "metadata": {
    "colab": {
      "name": "Fashion_MNIST_PyTorch.ipynb",
      "provenance": []
    },
    "kernelspec": {
      "name": "python3",
      "display_name": "Python 3"
    }
  },
  "cells": [
    {
      "cell_type": "markdown",
      "metadata": {
        "id": "saR6LW844J4X",
        "colab_type": "text"
      },
      "source": [
        "## Import libraries"
      ]
    },
    {
      "cell_type": "code",
      "metadata": {
        "id": "Mm17neN-ysx9",
        "colab_type": "code",
        "colab": {}
      },
      "source": [
        "import matplotlib.pyplot as plt\n",
        "import numpy as np\n",
        "\n",
        "import torch\n",
        "from torch import nn, optim\n",
        "import torch.nn.functional as F\n",
        "from torchvision import datasets, transforms\n",
        "\n",
        "%matplotlib inline"
      ],
      "execution_count": 0,
      "outputs": []
    },
    {
      "cell_type": "markdown",
      "metadata": {
        "id": "XjgOtbDX4X0q",
        "colab_type": "text"
      },
      "source": [
        "## Helper functions for Visualization\n"
      ]
    },
    {
      "cell_type": "code",
      "metadata": {
        "id": "SOtId6xq4Rcp",
        "colab_type": "code",
        "colab": {}
      },
      "source": [
        "def imshow(image, ax=None, title=None, normalize=True):\n",
        "    \"\"\"Imshow for Tensor.\"\"\"\n",
        "    if ax is None:\n",
        "        fig, ax = plt.subplots()\n",
        "    image = image.numpy().transpose((1, 2, 0))\n",
        "\n",
        "    if normalize:\n",
        "        mean = np.array([0.485, 0.456, 0.406])\n",
        "        std = np.array([0.229, 0.224, 0.225])\n",
        "        image = std * image + mean\n",
        "        image = np.clip(image, 0, 1)\n",
        "\n",
        "    ax.imshow(image)\n",
        "    ax.spines['top'].set_visible(False)\n",
        "    ax.spines['right'].set_visible(False)\n",
        "    ax.spines['left'].set_visible(False)\n",
        "    ax.spines['bottom'].set_visible(False)\n",
        "    ax.tick_params(axis='both', length=0)\n",
        "    ax.set_xticklabels('')\n",
        "    ax.set_yticklabels('')\n",
        "\n",
        "    return ax"
      ],
      "execution_count": 0,
      "outputs": []
    },
    {
      "cell_type": "code",
      "metadata": {
        "id": "qSRC6TA_4dAF",
        "colab_type": "code",
        "colab": {}
      },
      "source": [
        "def view_classify(img, ps):\n",
        "    ''' Function for viewing an image and it's predicted classes.\n",
        "    '''\n",
        "    ps = ps.data.numpy().squeeze()\n",
        "\n",
        "    fig, (ax1, ax2) = plt.subplots(figsize=(6,9), ncols=2)\n",
        "    ax1.imshow(img.resize_(1, 28, 28).numpy().squeeze())\n",
        "    ax1.axis('off')\n",
        "    ax2.barh(np.arange(10), ps)\n",
        "    ax2.set_aspect(0.1)\n",
        "    ax2.set_yticks(np.arange(10))\n",
        "    ax2.set_yticklabels(['T-shirt/top',\n",
        "                        'Trouser',\n",
        "                        'Pullover',\n",
        "                        'Dress',\n",
        "                        'Coat',\n",
        "                        'Sandal',\n",
        "                        'Shirt',\n",
        "                        'Sneaker',\n",
        "                        'Bag',\n",
        "                        'Ankle Boot'], size='small');\n",
        "    ax2.set_title('Class Probability')\n",
        "    ax2.set_xlim(0, 1.1)\n",
        "\n",
        "    plt.tight_layout()"
      ],
      "execution_count": 0,
      "outputs": []
    },
    {
      "cell_type": "markdown",
      "metadata": {
        "id": "kwJYW9OE5Qeg",
        "colab_type": "text"
      },
      "source": [
        "## Data Loading and Transformations"
      ]
    },
    {
      "cell_type": "code",
      "metadata": {
        "id": "6hdX-Hzq5KVT",
        "colab_type": "code",
        "colab": {}
      },
      "source": [
        "# Define a transform\n",
        "transform = transforms.Compose([transforms.ToTensor(),\n",
        "                                transforms.Normalize((0.5), (0.5))\n",
        "                                ])"
      ],
      "execution_count": 0,
      "outputs": []
    },
    {
      "cell_type": "code",
      "metadata": {
        "id": "NhkvdRMl5cp-",
        "colab_type": "code",
        "colab": {}
      },
      "source": [
        "# Load data\n",
        "trainset = datasets.FashionMNIST('~/.pytorch/F_MNIST_data/', download=True, train=True, transform=transform)\n",
        "testset = datasets.FashionMNIST('~/.pytorch/F_MNIST_data/', download=True, train=False, transform=transform)\n",
        "\n",
        "# Define data loaders\n",
        "trainloader = torch.utils.data.DataLoader(trainset, batch_size=64, shuffle=True)\n",
        "testloader = torch.utils.data.DataLoader(testset, batch_size=64, shuffle=True)"
      ],
      "execution_count": 0,
      "outputs": []
    },
    {
      "cell_type": "code",
      "metadata": {
        "id": "5qBb73Wl5t2A",
        "colab_type": "code",
        "colab": {
          "base_uri": "https://localhost:8080/",
          "height": 265
        },
        "outputId": "c1344ccd-4c6a-40c7-e3aa-f2b30a78817f"
      },
      "source": [
        "# Example Image\n",
        "image, label = next(iter(trainloader))\n",
        "imshow(image[0].view(1, 28, 28))\n",
        "print('label: {}'.format(label[0].item()))"
      ],
      "execution_count": 6,
      "outputs": [
        {
          "output_type": "stream",
          "text": [
            "label: 6\n"
          ],
          "name": "stdout"
        },
        {
          "output_type": "display_data",
          "data": {
            "image/png": "[encoded data removed]",
            "text/plain": [
              "<Figure size 432x288 with 1 Axes>"
            ]
          },
          "metadata": {
            "tags": [],
            "needs_background": "light"
          }
        }
      ]
    },
    {
      "cell_type": "markdown",
      "metadata": {
        "id": "kJ2qGxRD6ghg",
        "colab_type": "text"
      },
      "source": [
        "## Create Model (Without Regularization)"
      ]
    },
    {
      "cell_type": "code",
      "metadata": {
        "id": "HZgRkC2R59bF",
        "colab_type": "code",
        "colab": {}
      },
      "source": [
        "class Classifier(nn.Module):\n",
        "    def __init__(self):\n",
        "        ''' Creates a Classifier model for Fashion MNIST dataset. '''\n",
        "        super().__init__()\n",
        "        self.layer1 = nn.Linear(784, 256)\n",
        "        self.layer2 = nn.Linear(256, 128)\n",
        "        self.layer3 = nn.Linear(128, 64)\n",
        "        self.layer4 = nn.Linear(64, 10)\n",
        "        \n",
        "    def forward(self, x):\n",
        "        #flattened input tensor\n",
        "        x = x.view(x.shape[0], -1)\n",
        "        \n",
        "        x = F.relu(self.layer1(x))\n",
        "        x = F.relu(self.layer2(x))\n",
        "        x = F.relu(self.layer3(x))\n",
        "        x = F.log_softmax(self.layer4(x), dim=1)\n",
        "        \n",
        "        return x"
      ],
      "execution_count": 0,
      "outputs": []
    },
    {
      "cell_type": "markdown",
      "metadata": {
        "id": "FrjIvGmP7EuY",
        "colab_type": "text"
      },
      "source": [
        "## Training Process"
      ]
    },
    {
      "cell_type": "code",
      "metadata": {
        "id": "aZwqzMDT7Dpl",
        "colab_type": "code",
        "colab": {}
      },
      "source": [
        "# Define model, cost function and optimizer\n",
        "model = Classifier()\n",
        "\n",
        "cost = nn.NLLLoss()\n",
        "optimizer = optim.Adam(model.parameters(), lr=0.002)"
      ],
      "execution_count": 0,
      "outputs": []
    },
    {
      "cell_type": "code",
      "metadata": {
        "id": "VO2Yk4ZZ7Rlx",
        "colab_type": "code",
        "colab": {
          "base_uri": "https://localhost:8080/",
          "height": 527
        },
        "outputId": "3949303a-2ce6-494d-c54e-41b3a6099447"
      },
      "source": [
        "epochs = 30\n",
        "\n",
        "train_losses, test_losses = [], []\n",
        "\n",
        "for e in range(epochs):\n",
        "    train_loss = 0\n",
        "    for X, Y in trainloader:\n",
        "        # train\n",
        "        optimizer.zero_grad()\n",
        "        # forward pass\n",
        "        Y_hat = model.forward(X)  \n",
        "        # backward pass \n",
        "        loss = cost(Y_hat, Y)\n",
        "        loss.backward()\n",
        "        optimizer.step()\n",
        "\n",
        "        train_loss += loss.item()\n",
        "\n",
        "    else:\n",
        "        # validate\n",
        "        test_loss = 0\n",
        "        test_acc = 0\n",
        "\n",
        "        # Turn off gradients for validation, saves memory and computations\n",
        "        with torch.no_grad():\n",
        "            for X, Y in testloader:\n",
        "                Y_hat = model.forward(X)\n",
        "                test_loss += cost(Y_hat, Y)\n",
        "                \n",
        "                Y_hat = torch.exp(Y_hat)\n",
        "                top_p, top_class = Y_hat.topk(1, dim=1)\n",
        "                equals = top_class == Y.view(*top_class.shape)\n",
        "                test_acc += torch.mean(equals.type(torch.FloatTensor))\n",
        "    \n",
        "    train_losses.append(train_loss/len(trainloader))\n",
        "    test_losses.append(test_loss/len(testloader))\n",
        "\n",
        "    print(\"Epoch: {}/{}.. \".format(e+1, epochs),\n",
        "            \"Training Loss: {:.3f}.. \".format(train_loss/len(trainloader)),\n",
        "            \"Test Loss: {:.3f}.. \".format(test_loss/len(testloader)),\n",
        "            \"Test Accuracy: {:.2f}%\".format((test_acc/len(testloader))* 100))"
      ],
      "execution_count": 9,
      "outputs": [
        {
          "output_type": "stream",
          "text": [
            "Epoch: 1/30..  Training Loss: 0.511..  Test Loss: 0.435..  Test Accuracy: 83.95%\n",
            "Epoch: 2/30..  Training Loss: 0.378..  Test Loss: 0.392..  Test Accuracy: 85.91%\n",
            "Epoch: 3/30..  Training Loss: 0.344..  Test Loss: 0.372..  Test Accuracy: 86.46%\n",
            "Epoch: 4/30..  Training Loss: 0.321..  Test Loss: 0.372..  Test Accuracy: 86.81%\n",
            "Epoch: 5/30..  Training Loss: 0.302..  Test Loss: 0.355..  Test Accuracy: 87.36%\n",
            "Epoch: 6/30..  Training Loss: 0.287..  Test Loss: 0.350..  Test Accuracy: 87.80%\n",
            "Epoch: 7/30..  Training Loss: 0.274..  Test Loss: 0.384..  Test Accuracy: 86.38%\n",
            "Epoch: 8/30..  Training Loss: 0.266..  Test Loss: 0.362..  Test Accuracy: 87.48%\n",
            "Epoch: 9/30..  Training Loss: 0.254..  Test Loss: 0.337..  Test Accuracy: 88.31%\n",
            "Epoch: 10/30..  Training Loss: 0.247..  Test Loss: 0.341..  Test Accuracy: 88.46%\n",
            "Epoch: 11/30..  Training Loss: 0.239..  Test Loss: 0.365..  Test Accuracy: 87.40%\n",
            "Epoch: 12/30..  Training Loss: 0.232..  Test Loss: 0.354..  Test Accuracy: 88.28%\n",
            "Epoch: 13/30..  Training Loss: 0.221..  Test Loss: 0.359..  Test Accuracy: 87.99%\n",
            "Epoch: 14/30..  Training Loss: 0.218..  Test Loss: 0.367..  Test Accuracy: 88.28%\n",
            "Epoch: 15/30..  Training Loss: 0.213..  Test Loss: 0.369..  Test Accuracy: 88.13%\n",
            "Epoch: 16/30..  Training Loss: 0.204..  Test Loss: 0.366..  Test Accuracy: 88.29%\n",
            "Epoch: 17/30..  Training Loss: 0.198..  Test Loss: 0.374..  Test Accuracy: 88.85%\n",
            "Epoch: 18/30..  Training Loss: 0.194..  Test Loss: 0.429..  Test Accuracy: 88.09%\n",
            "Epoch: 19/30..  Training Loss: 0.187..  Test Loss: 0.400..  Test Accuracy: 88.30%\n",
            "Epoch: 20/30..  Training Loss: 0.182..  Test Loss: 0.391..  Test Accuracy: 88.54%\n",
            "Epoch: 21/30..  Training Loss: 0.184..  Test Loss: 0.388..  Test Accuracy: 88.40%\n",
            "Epoch: 22/30..  Training Loss: 0.178..  Test Loss: 0.406..  Test Accuracy: 87.82%\n",
            "Epoch: 23/30..  Training Loss: 0.173..  Test Loss: 0.399..  Test Accuracy: 88.67%\n",
            "Epoch: 24/30..  Training Loss: 0.165..  Test Loss: 0.384..  Test Accuracy: 88.65%\n",
            "Epoch: 25/30..  Training Loss: 0.167..  Test Loss: 0.432..  Test Accuracy: 88.58%\n",
            "Epoch: 26/30..  Training Loss: 0.157..  Test Loss: 0.410..  Test Accuracy: 88.11%\n",
            "Epoch: 27/30..  Training Loss: 0.156..  Test Loss: 0.431..  Test Accuracy: 88.64%\n",
            "Epoch: 28/30..  Training Loss: 0.161..  Test Loss: 0.429..  Test Accuracy: 88.35%\n",
            "Epoch: 29/30..  Training Loss: 0.148..  Test Loss: 0.425..  Test Accuracy: 88.49%\n",
            "Epoch: 30/30..  Training Loss: 0.151..  Test Loss: 0.446..  Test Accuracy: 89.19%\n"
          ],
          "name": "stdout"
        }
      ]
    },
    {
      "cell_type": "markdown",
      "metadata": {
        "id": "Curxir2t8HtV",
        "colab_type": "text"
      },
      "source": [
        "## Visualization of Losses"
      ]
    },
    {
      "cell_type": "code",
      "metadata": {
        "id": "83bHwTla7899",
        "colab_type": "code",
        "colab": {
          "base_uri": "https://localhost:8080/",
          "height": 282
        },
        "outputId": "02a8f09f-427f-4789-e4fd-c4fdab8d12b0"
      },
      "source": [
        "plt.plot(train_losses, label='Training loss')\n",
        "plt.plot(test_losses, label='Validation loss')\n",
        "plt.legend(frameon=False)"
      ],
      "execution_count": 10,
      "outputs": [
        {
          "output_type": "execute_result",
          "data": {
            "text/plain": [
              "<matplotlib.legend.Legend at 0x7f9c38ba8278>"
            ]
          },
          "metadata": {
            "tags": []
          },
          "execution_count": 10
        },
        {
          "output_type": "display_data",
          "data": {
            "image/png": "[encoded data removed]",
            "text/plain": [
              "<Figure size 432x288 with 1 Axes>"
            ]
          },
          "metadata": {
            "tags": [],
            "needs_background": "light"
          }
        }
      ]
    },
    {
      "cell_type": "markdown",
      "metadata": {
        "id": "kseBE1yy8MZB",
        "colab_type": "text"
      },
      "source": [
        "## Predictions"
      ]
    },
    {
      "cell_type": "code",
      "metadata": {
        "id": "2FmL28Fd8h1D",
        "colab_type": "code",
        "colab": {}
      },
      "source": [
        "def predict():\n",
        "    '''Chooses a random Image from Testset and classifies it'''\n",
        "    X, Y = next(iter(testloader))\n",
        "    x = X[0]\n",
        "\n",
        "    with torch.no_grad():\n",
        "        y_hat = model.forward(x)\n",
        "    \n",
        "    y_hat = torch.exp(y_hat)\n",
        "    view_classify(x.view(1, 28, 28), y_hat)"
      ],
      "execution_count": 0,
      "outputs": []
    },
    {
      "cell_type": "code",
      "metadata": {
        "id": "LWYweT6E8lYJ",
        "colab_type": "code",
        "colab": {
          "base_uri": "https://localhost:8080/",
          "height": 234
        },
        "outputId": "7d70e688-3fd7-43cc-abab-17858b9fe9df"
      },
      "source": [
        "predict()"
      ],
      "execution_count": 12,
      "outputs": [
        {
          "output_type": "display_data",
          "data": {
            "image/png": "[encoded data removed]",
            "text/plain": [
              "<Figure size 432x648 with 2 Axes>"
            ]
          },
          "metadata": {
            "tags": [],
            "needs_background": "light"
          }
        }
      ]
    },
    {
      "cell_type": "markdown",
      "metadata": {
        "id": "-JBZsuwm8ul6",
        "colab_type": "text"
      },
      "source": [
        "## Create Model (With Dropout Regularization)"
      ]
    },
    {
      "cell_type": "code",
      "metadata": {
        "id": "6pViQD3f8qH1",
        "colab_type": "code",
        "colab": {}
      },
      "source": [
        "class Classifier(nn.Module):\n",
        "    def __init__(self):\n",
        "        ''' Creates a Classifier model for Fashion MNIST dataset. '''\n",
        "        super().__init__()\n",
        "        self.layer1 = nn.Linear(784, 256)\n",
        "        self.layer2 = nn.Linear(256, 128)\n",
        "        self.layer3 = nn.Linear(128, 64)\n",
        "        self.layer4 = nn.Linear(64, 10)\n",
        "\n",
        "        # Dropout module with 0.2 drop probability\n",
        "        self.dropout = nn.Dropout(p=0.2)\n",
        "        \n",
        "    def forward(self, x):\n",
        "        #flattened input tensor\n",
        "        x = x.view(x.shape[0], -1)\n",
        "        \n",
        "        # with dropout\n",
        "        x = self.dropout(F.relu(self.layer1(x)))\n",
        "        x = self.dropout(F.relu(self.layer2(x)))\n",
        "        x = self.dropout(F.relu(self.layer3(x)))\n",
        "\n",
        "        # output --> no dropout\n",
        "        x = F.log_softmax(self.layer4(x), dim=1)\n",
        "        \n",
        "        return x"
      ],
      "execution_count": 0,
      "outputs": []
    },
    {
      "cell_type": "markdown",
      "metadata": {
        "id": "b_l1iIhv9gh_",
        "colab_type": "text"
      },
      "source": [
        "## Training Process"
      ]
    },
    {
      "cell_type": "code",
      "metadata": {
        "id": "ygQGKsMa9b4N",
        "colab_type": "code",
        "colab": {}
      },
      "source": [
        "# Define model, cost function and optimizer\n",
        "model = Classifier()\n",
        "\n",
        "cost = nn.NLLLoss()\n",
        "optimizer = optim.Adam(model.parameters(), lr=0.002)"
      ],
      "execution_count": 0,
      "outputs": []
    },
    {
      "cell_type": "code",
      "metadata": {
        "id": "DpgMuuBE9ylN",
        "colab_type": "code",
        "colab": {
          "base_uri": "https://localhost:8080/",
          "height": 527
        },
        "outputId": "2b4e7036-35a7-4c18-84e4-566b5eb36b83"
      },
      "source": [
        "epochs = 30\n",
        "\n",
        "train_losses, test_losses = [], []\n",
        "\n",
        "for e in range(epochs):\n",
        "    train_loss = 0\n",
        "    for X, Y in trainloader:\n",
        "        # train\n",
        "        optimizer.zero_grad()\n",
        "        # forward pass\n",
        "        Y_hat = model.forward(X)  \n",
        "        # backward pass \n",
        "        loss = cost(Y_hat, Y)\n",
        "        loss.backward()\n",
        "        optimizer.step()\n",
        "\n",
        "        train_loss += loss.item()\n",
        "\n",
        "    else:\n",
        "        # validate\n",
        "        test_loss = 0\n",
        "        test_acc = 0\n",
        "\n",
        "        # Turn off gradients for validation, saves memory and computations\n",
        "        with torch.no_grad():\n",
        "            # Turn off dropout\n",
        "            model.eval()\n",
        "            for X, Y in testloader:\n",
        "                Y_hat = model.forward(X)\n",
        "                test_loss += cost(Y_hat, Y)\n",
        "                \n",
        "                Y_hat = torch.exp(Y_hat)\n",
        "                top_p, top_class = Y_hat.topk(1, dim=1)\n",
        "                equals = top_class == Y.view(*top_class.shape)\n",
        "                test_acc += torch.mean(equals.type(torch.FloatTensor))\n",
        "\n",
        "        # Turn on dropuout\n",
        "        model.train()\n",
        "    \n",
        "    train_losses.append(train_loss/len(trainloader))\n",
        "    test_losses.append(test_loss/len(testloader))\n",
        "\n",
        "    print(\"Epoch: {}/{}.. \".format(e+1, epochs),\n",
        "            \"Training Loss: {:.3f}.. \".format(train_loss/len(trainloader)),\n",
        "            \"Test Loss: {:.3f}.. \".format(test_loss/len(testloader)),\n",
        "            \"Test Accuracy: {:.2f}%\".format((test_acc/len(testloader))* 100))"
      ],
      "execution_count": 15,
      "outputs": [
        {
          "output_type": "stream",
          "text": [
            "Epoch: 1/30..  Training Loss: 0.606..  Test Loss: 0.456..  Test Accuracy: 83.68%\n",
            "Epoch: 2/30..  Training Loss: 0.460..  Test Loss: 0.410..  Test Accuracy: 84.98%\n",
            "Epoch: 3/30..  Training Loss: 0.421..  Test Loss: 0.399..  Test Accuracy: 85.78%\n",
            "Epoch: 4/30..  Training Loss: 0.398..  Test Loss: 0.387..  Test Accuracy: 86.25%\n",
            "Epoch: 5/30..  Training Loss: 0.387..  Test Loss: 0.375..  Test Accuracy: 86.62%\n",
            "Epoch: 6/30..  Training Loss: 0.373..  Test Loss: 0.382..  Test Accuracy: 86.43%\n",
            "Epoch: 7/30..  Training Loss: 0.368..  Test Loss: 0.371..  Test Accuracy: 87.13%\n",
            "Epoch: 8/30..  Training Loss: 0.357..  Test Loss: 0.374..  Test Accuracy: 87.05%\n",
            "Epoch: 9/30..  Training Loss: 0.347..  Test Loss: 0.372..  Test Accuracy: 87.18%\n",
            "Epoch: 10/30..  Training Loss: 0.347..  Test Loss: 0.370..  Test Accuracy: 86.98%\n",
            "Epoch: 11/30..  Training Loss: 0.340..  Test Loss: 0.367..  Test Accuracy: 87.42%\n",
            "Epoch: 12/30..  Training Loss: 0.334..  Test Loss: 0.377..  Test Accuracy: 86.79%\n",
            "Epoch: 13/30..  Training Loss: 0.334..  Test Loss: 0.370..  Test Accuracy: 87.28%\n",
            "Epoch: 14/30..  Training Loss: 0.325..  Test Loss: 0.378..  Test Accuracy: 86.68%\n",
            "Epoch: 15/30..  Training Loss: 0.320..  Test Loss: 0.359..  Test Accuracy: 87.68%\n",
            "Epoch: 16/30..  Training Loss: 0.317..  Test Loss: 0.348..  Test Accuracy: 87.97%\n",
            "Epoch: 17/30..  Training Loss: 0.315..  Test Loss: 0.347..  Test Accuracy: 87.96%\n",
            "Epoch: 18/30..  Training Loss: 0.311..  Test Loss: 0.346..  Test Accuracy: 87.85%\n",
            "Epoch: 19/30..  Training Loss: 0.310..  Test Loss: 0.347..  Test Accuracy: 88.15%\n",
            "Epoch: 20/30..  Training Loss: 0.311..  Test Loss: 0.367..  Test Accuracy: 87.61%\n",
            "Epoch: 21/30..  Training Loss: 0.306..  Test Loss: 0.354..  Test Accuracy: 87.78%\n",
            "Epoch: 22/30..  Training Loss: 0.302..  Test Loss: 0.354..  Test Accuracy: 87.74%\n",
            "Epoch: 23/30..  Training Loss: 0.301..  Test Loss: 0.342..  Test Accuracy: 88.14%\n",
            "Epoch: 24/30..  Training Loss: 0.294..  Test Loss: 0.354..  Test Accuracy: 87.92%\n",
            "Epoch: 25/30..  Training Loss: 0.298..  Test Loss: 0.355..  Test Accuracy: 88.17%\n",
            "Epoch: 26/30..  Training Loss: 0.291..  Test Loss: 0.351..  Test Accuracy: 87.73%\n",
            "Epoch: 27/30..  Training Loss: 0.291..  Test Loss: 0.352..  Test Accuracy: 88.35%\n",
            "Epoch: 28/30..  Training Loss: 0.301..  Test Loss: 0.353..  Test Accuracy: 87.86%\n",
            "Epoch: 29/30..  Training Loss: 0.288..  Test Loss: 0.353..  Test Accuracy: 87.82%\n",
            "Epoch: 30/30..  Training Loss: 0.284..  Test Loss: 0.350..  Test Accuracy: 87.95%\n"
          ],
          "name": "stdout"
        }
      ]
    },
    {
      "cell_type": "markdown",
      "metadata": {
        "id": "Jb3F7Kh1-PoW",
        "colab_type": "text"
      },
      "source": [
        "## Visualization of Losses"
      ]
    },
    {
      "cell_type": "code",
      "metadata": {
        "id": "NCOEc4Gy-Sar",
        "colab_type": "code",
        "colab": {
          "base_uri": "https://localhost:8080/",
          "height": 282
        },
        "outputId": "7442c245-2539-4666-f89a-634743f8cf93"
      },
      "source": [
        "plt.plot(train_losses, label='Training loss')\n",
        "plt.plot(test_losses, label='Validation loss')\n",
        "plt.legend(frameon=False)"
      ],
      "execution_count": 16,
      "outputs": [
        {
          "output_type": "execute_result",
          "data": {
            "text/plain": [
              "<matplotlib.legend.Legend at 0x7f9c38c50eb8>"
            ]
          },
          "metadata": {
            "tags": []
          },
          "execution_count": 16
        },
        {
          "output_type": "display_data",
          "data": {
            "image/png": "[encoded data removed]",
            "text/plain": [
              "<Figure size 432x288 with 1 Axes>"
            ]
          },
          "metadata": {
            "tags": [],
            "needs_background": "light"
          }
        }
      ]
    },
    {
      "cell_type": "markdown",
      "metadata": {
        "id": "xsLogtq8-Ut1",
        "colab_type": "text"
      },
      "source": [
        "## Predictions"
      ]
    },
    {
      "cell_type": "code",
      "metadata": {
        "id": "0L4sIaGI-XUM",
        "colab_type": "code",
        "colab": {
          "base_uri": "https://localhost:8080/",
          "height": 234
        },
        "outputId": "1306e647-5634-4dc2-b375-cb79f62782dc"
      },
      "source": [
        "predict()"
      ],
      "execution_count": 17,
      "outputs": [
        {
          "output_type": "display_data",
          "data": {
            "image/png": "[encoded data removed]",
            "text/plain": [
              "<Figure size 432x648 with 2 Axes>"
            ]
          },
          "metadata": {
            "tags": [],
            "needs_background": "light"
          }
        }
      ]
    },
    {
      "cell_type": "code",
      "metadata": {
        "id": "Fr5MuRVt-fow",
        "colab_type": "code",
        "colab": {}
      },
      "source": [
        ""
      ],
      "execution_count": 0,
      "outputs": []
    }
  ]
}