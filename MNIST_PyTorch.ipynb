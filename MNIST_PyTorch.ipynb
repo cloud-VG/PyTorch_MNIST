{
  "nbformat": 4,
  "nbformat_minor": 0,
  "metadata": {
    "colab": {
      "name": "MNIST_PyTorch.ipynb",
      "provenance": []
    },
    "kernelspec": {
      "name": "python3",
      "display_name": "Python 3"
    }
  },
  "cells": [
    {
      "cell_type": "markdown",
      "metadata": {
        "id": "MKVzT0bVXclV",
        "colab_type": "text"
      },
      "source": [
        "## Import libraries\n"
      ]
    },
    {
      "cell_type": "code",
      "metadata": {
        "id": "yX4pBzMhXVRi",
        "colab_type": "code",
        "colab": {}
      },
      "source": [
        "import matplotlib.pyplot as plt\n",
        "import numpy as np\n",
        "\n",
        "import torch\n",
        "from torch import nn, optim\n",
        "import torch.nn.functional as F\n",
        "from torchvision import datasets, transforms\n",
        "\n",
        "%matplotlib inline"
      ],
      "execution_count": 0,
      "outputs": []
    },
    {
      "cell_type": "markdown",
      "metadata": {
        "id": "oUxGudLLY8KT",
        "colab_type": "text"
      },
      "source": [
        "## Helper functions for Visualization"
      ]
    },
    {
      "cell_type": "code",
      "metadata": {
        "id": "jQFFVDOBY6e7",
        "colab_type": "code",
        "colab": {}
      },
      "source": [
        "def imshow(image, ax=None, title=None, normalize=True):\n",
        "    \"\"\"Imshow for Tensor.\"\"\"\n",
        "    if ax is None:\n",
        "        fig, ax = plt.subplots()\n",
        "    image = image.numpy().transpose((1, 2, 0))\n",
        "\n",
        "    if normalize:\n",
        "        mean = np.array([0.485, 0.456, 0.406])\n",
        "        std = np.array([0.229, 0.224, 0.225])\n",
        "        image = std * image + mean\n",
        "        image = np.clip(image, 0, 1)\n",
        "\n",
        "    ax.imshow(image)\n",
        "    ax.spines['top'].set_visible(False)\n",
        "    ax.spines['right'].set_visible(False)\n",
        "    ax.spines['left'].set_visible(False)\n",
        "    ax.spines['bottom'].set_visible(False)\n",
        "    ax.tick_params(axis='both', length=0)\n",
        "    ax.set_xticklabels('')\n",
        "    ax.set_yticklabels('')\n",
        "\n",
        "    return ax"
      ],
      "execution_count": 0,
      "outputs": []
    },
    {
      "cell_type": "code",
      "metadata": {
        "id": "WoqTW5UiZL-E",
        "colab_type": "code",
        "colab": {}
      },
      "source": [
        "def view_classify(img, ps):\n",
        "    ''' Function for viewing an image and it's predicted classes.'''\n",
        "    ps = ps.data.numpy().squeeze()\n",
        "\n",
        "    fig, (ax1, ax2) = plt.subplots(figsize=(6,9), ncols=2)\n",
        "    ax1.imshow(img.resize_(1, 28, 28).numpy().squeeze())\n",
        "    ax1.axis('off')\n",
        "    ax2.barh(np.arange(10), ps)\n",
        "    ax2.set_aspect(0.1)\n",
        "    ax2.set_yticks(np.arange(10))\n",
        "    ax2.set_yticklabels(np.arange(10))\n",
        "    ax2.set_title('Class Probability')\n",
        "    ax2.set_xlim(0, 1.1)\n",
        "\n",
        "    plt.tight_layout()"
      ],
      "execution_count": 0,
      "outputs": []
    },
    {
      "cell_type": "markdown",
      "metadata": {
        "id": "sm4voAPkZh-7",
        "colab_type": "text"
      },
      "source": [
        "## Data Loading and Transformations"
      ]
    },
    {
      "cell_type": "code",
      "metadata": {
        "id": "J2ZBtpKSaR_b",
        "colab_type": "code",
        "colab": {}
      },
      "source": [
        "# Define a transform\n",
        "transform = transforms.Compose([transforms.ToTensor(),\n",
        "                               transforms.Normalize((0.5,), (0.5,)),\n",
        "                              ])"
      ],
      "execution_count": 0,
      "outputs": []
    },
    {
      "cell_type": "code",
      "metadata": {
        "id": "HzZNAgx-ZxDg",
        "colab_type": "code",
        "colab": {}
      },
      "source": [
        "# Load data\n",
        "trainset = datasets.MNIST('~/.pytorch/MNIST_data/', download=True, train=True, transform=transform)\n",
        "testset = datasets.MNIST('~/.pytorch/MNIST_data/', download=True, train=False, transform=transform)\n",
        "\n",
        "# Define data loaders\n",
        "trainloader = torch.utils.data.DataLoader(trainset, batch_size=64, shuffle=True)\n",
        "testloader = torch.utils.data.DataLoader(testset, batch_size=64, shuffle=True)"
      ],
      "execution_count": 0,
      "outputs": []
    },
    {
      "cell_type": "code",
      "metadata": {
        "id": "LIhFqdJ9ah_Z",
        "colab_type": "code",
        "colab": {
          "base_uri": "https://localhost:8080/",
          "height": 265
        },
        "outputId": "a8a04340-fe74-487e-9a86-682765274e4e"
      },
      "source": [
        "# Example Image\n",
        "image, label = next(iter(trainloader))\n",
        "imshow(image[0].view(1, 28, 28))\n",
        "print('label: {}'.format(label[0].item()))"
      ],
      "execution_count": 6,
      "outputs": [
        {
          "output_type": "stream",
          "text": [
            "label: 5\n"
          ],
          "name": "stdout"
        },
        {
          "output_type": "display_data",
          "data": {
            "image/png": "[encoded data removed]",
            "text/plain": [
              "<Figure size 432x288 with 1 Axes>"
            ]
          },
          "metadata": {
            "tags": [],
            "needs_background": "light"
          }
        }
      ]
    },
    {
      "cell_type": "markdown",
      "metadata": {
        "id": "K7EV78Wnf4iO",
        "colab_type": "text"
      },
      "source": [
        "## Create Model"
      ]
    },
    {
      "cell_type": "code",
      "metadata": {
        "id": "HsXCKTlkbDu_",
        "colab_type": "code",
        "colab": {}
      },
      "source": [
        "class Classifier(nn.Module):\n",
        "    ''' Creates a Classifier model for MNIST dataset. '''\n",
        "    def __init__(self):\n",
        "        super().__init__()\n",
        "        self.layer1 = nn.Linear(784, 128)\n",
        "        self.layer2 = nn.Linear(128, 64)\n",
        "        self.layer3 = nn.Linear(64, 10)\n",
        "\n",
        "    def forward(self, x):\n",
        "        #flattened input tensor\n",
        "        x = x.view(x.shape[0], -1)\n",
        "\n",
        "        x = F.relu(self.layer1(x))\n",
        "        x = F.relu(self.layer2(x))\n",
        "        x = F.log_softmax(self.layer3(x), dim=1)\n",
        "\n",
        "        return x"
      ],
      "execution_count": 0,
      "outputs": []
    },
    {
      "cell_type": "markdown",
      "metadata": {
        "id": "4Z6N-lH9iHtr",
        "colab_type": "text"
      },
      "source": [
        "## Training Process"
      ]
    },
    {
      "cell_type": "code",
      "metadata": {
        "id": "KSOXSxakiFIH",
        "colab_type": "code",
        "colab": {}
      },
      "source": [
        "# Define model, cost function and optimizer\n",
        "model = Classifier()\n",
        "\n",
        "cost = nn.NLLLoss()\n",
        "optimizer = optim.SGD(model.parameters(), lr=0.001)"
      ],
      "execution_count": 0,
      "outputs": []
    },
    {
      "cell_type": "code",
      "metadata": {
        "id": "uJXUeqRDiwgO",
        "colab_type": "code",
        "colab": {
          "base_uri": "https://localhost:8080/",
          "height": 187
        },
        "outputId": "8d5095e2-52a4-4503-b70d-6a380e53c231"
      },
      "source": [
        "epochs = 10\n",
        "    \n",
        "train_losses, test_losses = [], []\n",
        "\n",
        "for e in range(epochs):\n",
        "    train_loss = 0\n",
        "    for X, Y in trainloader:\n",
        "        # train\n",
        "        optimizer.zero_grad()\n",
        "        # forward pass\n",
        "        Y_hat = model.forward(X)  \n",
        "        # backward pass \n",
        "        loss = cost(Y_hat, Y)\n",
        "        loss.backward()\n",
        "        optimizer.step()\n",
        "\n",
        "        train_loss += loss.item()\n",
        "\n",
        "    else:\n",
        "        # validate\n",
        "        test_loss = 0\n",
        "        test_acc = 0\n",
        "\n",
        "        # Turn off gradients for validation, saves memory and computations\n",
        "        with torch.no_grad():\n",
        "            for X, Y in testloader:\n",
        "                Y_hat = model.forward(X)\n",
        "                test_loss += cost(Y_hat, Y)\n",
        "                \n",
        "                Y_hat = torch.exp(Y_hat)\n",
        "                top_p, top_class = Y_hat.topk(1, dim=1)\n",
        "                equals = top_class == Y.view(*top_class.shape)\n",
        "                test_acc += torch.mean(equals.type(torch.FloatTensor))\n",
        "    \n",
        "    train_losses.append(train_loss/len(trainloader))\n",
        "    test_losses.append(test_loss/len(testloader))\n",
        "\n",
        "    print(\"Epoch: {}/{}.. \".format(e+1, epochs),\n",
        "            \"Training Loss: {:.3f}.. \".format(train_loss/len(trainloader)),\n",
        "            \"Test Loss: {:.3f}.. \".format(test_loss/len(testloader)),\n",
        "            \"Test Accuracy: {:.2f}%\".format((test_acc/len(testloader))* 100))"
      ],
      "execution_count": 14,
      "outputs": [
        {
          "output_type": "stream",
          "text": [
            "Epoch: 1/10..  Training Loss: 2.204..  Test Loss: 2.084..  Test Accuracy: 49.59%\n",
            "Epoch: 2/10..  Training Loss: 1.901..  Test Loss: 1.671..  Test Accuracy: 58.40%\n",
            "Epoch: 3/10..  Training Loss: 1.438..  Test Loss: 1.202..  Test Accuracy: 72.42%\n",
            "Epoch: 4/10..  Training Loss: 1.046..  Test Loss: 0.893..  Test Accuracy: 79.22%\n",
            "Epoch: 5/10..  Training Loss: 0.805..  Test Loss: 0.710..  Test Accuracy: 82.80%\n",
            "Epoch: 6/10..  Training Loss: 0.663..  Test Loss: 0.601..  Test Accuracy: 84.55%\n",
            "Epoch: 7/10..  Training Loss: 0.576..  Test Loss: 0.533..  Test Accuracy: 86.01%\n",
            "Epoch: 8/10..  Training Loss: 0.519..  Test Loss: 0.482..  Test Accuracy: 86.93%\n",
            "Epoch: 9/10..  Training Loss: 0.479..  Test Loss: 0.450..  Test Accuracy: 87.72%\n",
            "Epoch: 10/10..  Training Loss: 0.449..  Test Loss: 0.423..  Test Accuracy: 88.05%\n"
          ],
          "name": "stdout"
        }
      ]
    },
    {
      "cell_type": "markdown",
      "metadata": {
        "id": "nJjocZAkp-zG",
        "colab_type": "text"
      },
      "source": [
        "## Visualization of Losses"
      ]
    },
    {
      "cell_type": "code",
      "metadata": {
        "id": "lKsADs7tnn79",
        "colab_type": "code",
        "colab": {
          "base_uri": "https://localhost:8080/",
          "height": 282
        },
        "outputId": "cb6215f4-cecb-4f34-90d5-122441c4be79"
      },
      "source": [
        "plt.plot(train_losses, label='Training loss')\n",
        "plt.plot(test_losses, label='Validation loss')\n",
        "plt.legend(frameon=False)"
      ],
      "execution_count": 15,
      "outputs": [
        {
          "output_type": "execute_result",
          "data": {
            "text/plain": [
              "<matplotlib.legend.Legend at 0x7f54e941b5f8>"
            ]
          },
          "metadata": {
            "tags": []
          },
          "execution_count": 15
        },
        {
          "output_type": "display_data",
          "data": {
            "image/png": "[encoded data removed]",
            "text/plain": [
              "<Figure size 432x288 with 1 Axes>"
            ]
          },
          "metadata": {
            "tags": [],
            "needs_background": "light"
          }
        }
      ]
    },
    {
      "cell_type": "markdown",
      "metadata": {
        "id": "KHhhILFVqzX3",
        "colab_type": "text"
      },
      "source": [
        "## Predictions"
      ]
    },
    {
      "cell_type": "code",
      "metadata": {
        "id": "EIe2uaRfnpsr",
        "colab_type": "code",
        "colab": {}
      },
      "source": [
        "def predict():\n",
        "    '''Chooses a random Image from Testset and classifies it'''\n",
        "    X, Y = next(iter(testloader))\n",
        "    x = X[0]\n",
        "\n",
        "    with torch.no_grad():\n",
        "        y_hat = model.forward(x)\n",
        "    \n",
        "    y_hat = torch.exp(y_hat)\n",
        "    view_classify(x.view(1, 28, 28), y_hat)"
      ],
      "execution_count": 0,
      "outputs": []
    },
    {
      "cell_type": "code",
      "metadata": {
        "id": "98HBIhxPr76y",
        "colab_type": "code",
        "colab": {
          "base_uri": "https://localhost:8080/",
          "height": 253
        },
        "outputId": "cab02ff1-fe8e-4bba-e934-cd8a3eee4416"
      },
      "source": [
        "predict()"
      ],
      "execution_count": 28,
      "outputs": [
        {
          "output_type": "display_data",
          "data": {
            "image/png": "[encoded data removed]",
            "text/plain": [
              "<Figure size 432x648 with 2 Axes>"
            ]
          },
          "metadata": {
            "tags": [],
            "needs_background": "light"
          }
        }
      ]
    },
    {
      "cell_type": "code",
      "metadata": {
        "id": "fdOf5ZLXsetT",
        "colab_type": "code",
        "colab": {}
      },
      "source": [
        ""
      ],
      "execution_count": 0,
      "outputs": []
    }
  ]
}